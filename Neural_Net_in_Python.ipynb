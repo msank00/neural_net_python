{
 "cells": [
  {
   "cell_type": "markdown",
   "metadata": {},
   "source": [
    "# Neural Networks in 100 lines of pure Python\n",
    "- [blog_link](https://eisenjulian.github.io/deep-learning-in-100-lines/)\n",
    "- [Pytorch nn module tutorial](https://pytorch.org/tutorials/beginner/nn_tutorial.html)"
   ]
  },
  {
   "cell_type": "code",
   "execution_count": 95,
   "metadata": {},
   "outputs": [],
   "source": [
    "import numpy as np\n",
    "%matplotlib inline\n",
    "import matplotlib as mpl\n",
    "import matplotlib.pyplot as plt\n",
    "import seaborn as sns\n",
    "\n",
    "font = {'weight' : 'bold',\n",
    "        'size'   : 22}\n",
    "mpl.rc('font', **font)\n",
    "\n",
    "import warnings\n",
    "warnings.simplefilter('ignore')"
   ]
  },
  {
   "cell_type": "code",
   "execution_count": 91,
   "metadata": {},
   "outputs": [
    {
     "data": {
      "text/plain": [
       "['Solarize_Light2',\n",
       " '_classic_test',\n",
       " 'bmh',\n",
       " 'classic',\n",
       " 'dark_background',\n",
       " 'fast',\n",
       " 'fivethirtyeight',\n",
       " 'ggplot',\n",
       " 'grayscale',\n",
       " 'seaborn',\n",
       " 'seaborn-bright',\n",
       " 'seaborn-colorblind',\n",
       " 'seaborn-dark',\n",
       " 'seaborn-dark-palette',\n",
       " 'seaborn-darkgrid',\n",
       " 'seaborn-deep',\n",
       " 'seaborn-muted',\n",
       " 'seaborn-notebook',\n",
       " 'seaborn-paper',\n",
       " 'seaborn-pastel',\n",
       " 'seaborn-poster',\n",
       " 'seaborn-talk',\n",
       " 'seaborn-ticks',\n",
       " 'seaborn-white',\n",
       " 'seaborn-whitegrid',\n",
       " 'tableau-colorblind10']"
      ]
     },
     "execution_count": 91,
     "metadata": {},
     "output_type": "execute_result"
    }
   ],
   "source": [
    "sorted(mpl.style.available)"
   ]
  },
  {
   "cell_type": "markdown",
   "metadata": {},
   "source": [
    "## Param Class\n",
    "\n",
    "We can start with a class that encapsulates \n",
    "- tensor\n",
    "- its gradients. \n",
    "\n",
    "The tensor can be anything like numpy array or torch array"
   ]
  },
  {
   "cell_type": "code",
   "execution_count": 28,
   "metadata": {},
   "outputs": [],
   "source": [
    "class Parameter():\n",
    "    def __init__(self, tensor):\n",
    "        self.tensor = tensor\n",
    "        self.gradient = np.zeros_like(self.tensor)"
   ]
  },
  {
   "cell_type": "markdown",
   "metadata": {},
   "source": [
    "## Layer Class\n",
    "\n",
    "Now we can create the layer class, the key idea is that during a forward pass (`Forward()`) we return both \n",
    "\n",
    "- layer output \n",
    "- `function`\n",
    "\n",
    "The `function` will have the following signature:\n",
    "\n",
    "```py\n",
    "def function(input):\n",
    "    \"\"\"\n",
    "    input (tensor): gradient of the loss with respect to the outputs\n",
    "    return (tensor): the gradient with respect to the inputs, \n",
    "                    updating the weight gradients in the process\n",
    "    \"\"\"\n",
    "    output = do_operation(input)\n",
    "    return output\n",
    "\n",
    "```\n",
    "\n",
    "This is because while evaluating the model layer by layer there's no way to calculate the gradients if we don't know the final loss yet, instead the best thing you can do is return a function that CAN calculate the gradient later. And that function will only be called after we completed the forward evaluation, when you know the loss and you have all the necessary info to compute the gradients in that layer.\n",
    "\n",
    "\n",
    "The training process will then have three steps, calculate the forward step, then the backward steps accumulate the gradients, and finally updating the weights. It’s important to do this at the end\tsince weights can be reused in multiple layers and we don’t want to mutate the weights before time."
   ]
  },
  {
   "cell_type": "code",
   "execution_count": 44,
   "metadata": {},
   "outputs": [],
   "source": [
    "class Layer:\n",
    "    def __init__(self):\n",
    "        self.parameters = []\n",
    "\n",
    "    def forward(self, X):\n",
    "        return X, lambda D: D\n",
    "\n",
    "    def build_param(self, tensor):\n",
    "        \"\"\"\n",
    "        tensor (numpy matrix)\n",
    "        return:\n",
    "            param (Parameter)\n",
    "        \"\"\"\n",
    "        param = Parameter(tensor)\n",
    "        self.parameters.append(param)\n",
    "        return param\n",
    "    \n",
    "    def update(self, optimizer):\n",
    "        for param in self.parameters: optimizer.update(param)"
   ]
  },
  {
   "cell_type": "markdown",
   "metadata": {},
   "source": [
    "It's standard to delegate the job of updating the parameters to an optimizer, which receives an instance of a parameter after every batch. The simplest and most known optimization method out there is the mini-batch stochastic gradient descent\n",
    "\n",
    "### Code Analysis\n",
    "Also look at line 6, where it's returning a lambda. Here it's returning a lambda function that can be applied later with the appropriate argument. \n",
    "\n",
    "How a returned lambda function can work? \n",
    "\n",
    "Lets see an example\n",
    "\n",
    "```py\n",
    "def fun(n):\n",
    "    \"\"\"\n",
    "    return a lambda function with the increment size\n",
    "    \"\"\"\n",
    "    return lambda x: x+n\n",
    "\n",
    "x = 3\n",
    "inc3 = fun(3)\n",
    "inc3(x) ## this will increase the x's value by 3\n",
    "ans: 6\n",
    "\n",
    "inc5 = fun(5)\n",
    "inc5(x) ## this will increase the x's value by 3\n",
    "ans: 8\n",
    "```"
   ]
  },
  {
   "cell_type": "markdown",
   "metadata": {},
   "source": [
    "## SGD Optimizer Class"
   ]
  },
  {
   "cell_type": "code",
   "execution_count": 40,
   "metadata": {},
   "outputs": [],
   "source": [
    "class SGDOptimizer():\n",
    "    def __init__(self, lr=0.1):\n",
    "        self.lr = lr\n",
    "\n",
    "    def update(self, param):\n",
    "        \"\"\"\n",
    "        the tensors are updated, but not the gradients. they are filled with 0. Why ????\n",
    "        look at the backward() definition in Class Linear. In the backward(), the gradients are updated.\n",
    "        \"\"\"\n",
    "        param.tensor -= self.lr * param.gradient\n",
    "        param.gradient.fill(0) "
   ]
  },
  {
   "cell_type": "markdown",
   "metadata": {},
   "source": [
    "Next build our `Linear Layer` extending the `Class Layer`\n",
    "\n",
    "## Linear Class\n",
    "\n",
    "For reference let's look at the `Layer class`, which the `Linear class` is extending\n",
    "```py\n",
    "class Layer:\n",
    "    def __init__(self):\n",
    "        self.parameters = []\n",
    "\n",
    "    def forward(self, X):\n",
    "        return X, lambda D: D\n",
    "\n",
    "    def build_param(self, tensor):\n",
    "        \"\"\"\n",
    "        tensor (numpy matrix)\n",
    "        return:\n",
    "            param (Parameter)\n",
    "        \"\"\"\n",
    "        param = Parameter(tensor)\n",
    "        self.parameters.append(param)\n",
    "        return param\n",
    "    \n",
    "    def update(self, optimizer):\n",
    "        for param in self.parameters: optimizer.update(param)\n",
    "```"
   ]
  },
  {
   "cell_type": "code",
   "execution_count": 42,
   "metadata": {},
   "outputs": [],
   "source": [
    "class Linear(Layer):\n",
    "    def __init__(self, inputs, outputs):\n",
    "        \"\"\"\n",
    "        inputs (int): input dimension\n",
    "        outputs (int): output dimension\n",
    "        \"\"\"\n",
    "        super().__init__()\n",
    "        tensor = np.random.randn(inputs, outputs) * np.sqrt(1 / inputs)\n",
    "        self.weights = self.build_param(tensor)\n",
    "        self.bias = self.build_param(np.zeros(outputs))\n",
    "\n",
    "    def forward(self, X):\n",
    "        def backward(D):\n",
    "            self.weights.gradient += X.T @ D\n",
    "            self.bias.gradient += D.sum(axis=0)\n",
    "            return D @ self.weights.tensor.T\n",
    "        \n",
    "        return X @ self.weights.tensor +  self.bias.tensor, backward"
   ]
  },
  {
   "cell_type": "markdown",
   "metadata": {},
   "source": [
    "### Code Analysis\n",
    "\n",
    "**line 8**\n",
    "\n",
    "We are initializing the weights here with `Xavier initialisation` (by multiplying with `1/sqrt(n)`), where n is the input dimension\n",
    "\n",
    "**Line 9, 10**\n",
    "\n",
    "the build param is returning a Parameter object which has a tensor and the gradient. The tensor is filled with the input tensor. But the gradient is filled with `0` intially.\n",
    "\n",
    "**Line 14-16**\n",
    "\n",
    "the `backward()` definition is something similar to \n",
    "\n",
    "```py\n",
    "def outfun(x):\n",
    "    def infun(n):\n",
    "        print('process infun() running ...')\n",
    "        return x*n\n",
    "    return 5*x, infun\n",
    "\n",
    "x1 = 10\n",
    "x2 = 11\n",
    "z, y = outfun(x1)\n",
    "print(y(z))\n",
    "\n",
    "z, y = outfun(x2)\n",
    "print(y(z))\n",
    "Ans:\n",
    "process infun() running ...\n",
    "500\n",
    "process infun() running ...\n",
    "605\n",
    "```\n",
    "\n",
    "Here the logic is outfun will return the `5*x` and also the **partial funciton defition** for `infun()`. \n",
    "\n",
    "Why **partial function definition**?: \n",
    "\n",
    "- Because when the definition of `infun(n)` is generated, it doesn't know the `n`. But it receives the `x` from `outfun(x)`. So `infun()` definition is partially generated when `outfun()` returns `infun`. Later, when we call `y(z)` then `y == infun` and `n == z` and then `infun(z)` is executed and it gives `500`. It means that the `infun()` definition is not static. Rather it's dynamic. Because it's one part is bound to the input of the `outfun()`. Thus for different `outfun(10)`, `outfun(11)` call, output of `infun(z)` will be different. \n",
    "\n",
    "Now this same logic is running behind the `Forward()` and `backward()` definition. For each layer there should be a `Forward()` and `backward()` function. However only catch is the `backward()` can only be called after `Forward()` is finished - giving us the final loss. \n",
    "\n",
    "> \"..This is because while evaluating the model layer by layer there's no way to calculate the gradients if we don't know the final loss yet, instead the best thing you can do is return a function that CAN calculate the gradient later. And that function will only be called after we completed the forward evaluation, when you know the loss and you have all the necessary info to compute the gradients in that layer...\"\n",
    "\n",
    "\n",
    "\n",
    "Now, the next most used types of layers are activations, which are non-linear point-wise functions. The Jacobian of a point-wise function is diagonal, which means that when multiplied by the gradient it also acts a `point-wise multiplication`.\n",
    "\n",
    "The **@** operator:\n",
    "\n",
    "> numpy overloaded @ operator for matrix multiplication\n",
    "\n",
    "It basically does the matrix multiplication\n",
    "\n",
    "```py\n",
    "a = np.random.randint(low=0, high=10,size=(4,3))\n",
    "c = np.random.randint(low=0, high=10,size=(3,4))\n",
    "\n",
    "np.dot(a, c)\n",
    "\n",
    "np.matmul(a, c) # n is 4, k is 3, m is 4\n",
    "\n",
    "a @ c\n",
    "\n",
    "```"
   ]
  },
  {
   "cell_type": "markdown",
   "metadata": {},
   "source": [
    "## Activation Function ReLu"
   ]
  },
  {
   "cell_type": "code",
   "execution_count": 62,
   "metadata": {},
   "outputs": [],
   "source": [
    "class ReLu(Layer):\n",
    "    def forward(self, X):\n",
    "        mask = X > 0\n",
    "        return X * mask, lambda D: D * mask\n",
    "    \n",
    "class ReLu2(Layer):\n",
    "    def forward(self, X):\n",
    "        \"\"\"\n",
    "        mask (bool:ndarray): True if X > 0 else False\n",
    "        \n",
    "        X*mask (int/float ndarray): x_ij if mask_ij == True else 0 \n",
    "        \"\"\"\n",
    "        mask = X > 0\n",
    "        \n",
    "        def backward(D):\n",
    "            return D * mask\n",
    "        \n",
    "        return X * mask, backward"
   ]
  },
  {
   "cell_type": "markdown",
   "metadata": {},
   "source": [
    "### Code Analysis\n",
    "\n",
    "Both the definition are same. Look closely and see `ReLu2::Forward()` is returning a **named function** `backward()`, whereas `ReLy::Forward()` is returning an **unnamed function** lambda\n",
    "\n",
    "\n",
    "```py\n",
    "a = np.random.randint(low=-10, high=10,size=(4,3))\n",
    "c = np.random.randint(low=-10, high=10,size=(4,3))\n",
    "print(a)\n",
    "mask = a > 0\n",
    "print(mask)\n",
    "print(c * mask) \n",
    "\n",
    "```"
   ]
  },
  {
   "cell_type": "markdown",
   "metadata": {},
   "source": [
    "## Activation Function Sigmoid"
   ]
  },
  {
   "cell_type": "code",
   "execution_count": 63,
   "metadata": {},
   "outputs": [],
   "source": [
    "class Sigmoid(Layer):\n",
    "    def forward(self, X):\n",
    "        S = 1 / (1 + np.exp(-X))\n",
    "        def backward(D):\n",
    "            return D * S * (1 - S)\n",
    "        \n",
    "        return S, backward"
   ]
  },
  {
   "cell_type": "markdown",
   "metadata": {},
   "source": [
    "## The Magic: Sequential Layer"
   ]
  },
  {
   "cell_type": "markdown",
   "metadata": {},
   "source": [
    "- many layers in sequence\n",
    "- traverse those layers in sequence execute Forward() for each layer\n",
    "  - save the returned `backward()` of Forward() for each layer in list: list_backward \n",
    "  - iterate list_backward in reverse order\n",
    "    - get all the way to gradient w.r.t the first layer input and return it.\n",
    "    \n",
    "This is where the **magic** happens:"
   ]
  },
  {
   "cell_type": "code",
   "execution_count": 64,
   "metadata": {},
   "outputs": [],
   "source": [
    "class Sequential(Layer):\n",
    "    def __init__(self, *layers):\n",
    "        super().__init__()\n",
    "        self.layers = layers\n",
    "        for layer in layers:\n",
    "            self.parameters.extend(layer.parameters)\n",
    "\n",
    "    def forward(self, X):\n",
    "        \"\"\"\n",
    "        backpropos (list): contains all the backward() of all the layers\n",
    "        \n",
    "        So the backward() of Sequential Class is actually running all the backward() \n",
    "            of all the layer class in reverse order \n",
    "        \"\"\"\n",
    "        backprops = []\n",
    "        Y = X\n",
    "        for layer in self.layers:\n",
    "            Y, backprop = layer.forward(Y)\n",
    "            backprops.append(backprop) ## Y is not appended, the final Y is returned\n",
    "        \n",
    "        def backward(D):\n",
    "            for backprop in reversed(backprops): \n",
    "                D = backprop(D)\n",
    "            return D\n",
    "        return Y, backward"
   ]
  },
  {
   "cell_type": "markdown",
   "metadata": {},
   "source": [
    "## MSE Loss\n",
    "As we mentioned earlier, we will need a way to calculate the loss function associated with a batch of samples, and its gradient. One example would be MSE loss, typically used in regression problems, and it can be implemented in this manner:"
   ]
  },
  {
   "cell_type": "code",
   "execution_count": 66,
   "metadata": {},
   "outputs": [],
   "source": [
    "def mse_loss(Yp, Yt):\n",
    "    \"\"\"\n",
    "    returns the loss and the derivative of loss\n",
    "    \"\"\"\n",
    "    diff = Yp - Yt\n",
    "    return np.square(diff).mean(), 2 * diff / len(diff)"
   ]
  },
  {
   "cell_type": "markdown",
   "metadata": {},
   "source": [
    "## Training Class\n",
    "\n",
    "Almost there now, we have two types of layers and a way to combine them, so how does the training loop look like. We can use an API similar to scikit-learn or keras."
   ]
  },
  {
   "cell_type": "code",
   "execution_count": 67,
   "metadata": {},
   "outputs": [],
   "source": [
    "class Learner():\n",
    "    def __init__(self, model, loss, optimizer):\n",
    "        self.model = model\n",
    "        self.loss = loss\n",
    "        self.optimizer = optimizer\n",
    "\n",
    "    def fit_batch(self, X, Y):\n",
    "        Y_, backward = self.model.forward(X)\n",
    "        L, D = self.loss(Y_, Y)\n",
    "        backward(D)\n",
    "        self.model.update(self.optimizer)\n",
    "        return L\n",
    "\n",
    "    def fit(self, X, Y, epochs, bs):\n",
    "        losses = []\n",
    "        for epoch in range(epochs):\n",
    "            p = np.random.permutation(len(X))\n",
    "            X, Y = X[p], Y[p]\n",
    "            loss = 0.0\n",
    "            for i in range(0, len(X), bs):\n",
    "                loss += self.fit_batch(X[i:i + bs], Y[i:i + bs])\n",
    "            losses.append(loss)\n",
    "    \n",
    "        return losses"
   ]
  },
  {
   "cell_type": "code",
   "execution_count": 75,
   "metadata": {},
   "outputs": [
    {
     "data": {
      "text/plain": [
       "[80.08798996425271,\n",
       " 10.679548725998474,\n",
       " 1.9042406281155577,\n",
       " 0.3864093357335405,\n",
       " 0.08534169977526683,\n",
       " 0.019765956435212517,\n",
       " 0.0047690554650691415,\n",
       " 0.00118407972710938,\n",
       " 0.00029472626669883455,\n",
       " 8.052980923992693e-05]"
      ]
     },
     "execution_count": 75,
     "metadata": {},
     "output_type": "execute_result"
    }
   ],
   "source": [
    "X = np.random.randn(100, 10)\n",
    "W = np.random.randn(10, 1)\n",
    "B = np.random.randn(1)\n",
    "Y = X @ W + B\n",
    "\n",
    "N_EPOCHS = 10\n",
    "model = Linear(10, 1)\n",
    "learner = Learner(model, mse_loss, SGDOptimizer(lr=0.05))\n",
    "loss = learner.fit(X, Y, epochs=N_EPOCHS, bs=10)\n",
    "\n",
    "loss"
   ]
  },
  {
   "cell_type": "code",
   "execution_count": 94,
   "metadata": {},
   "outputs": [
    {
     "data": {
      "image/png": "[encoded data removed]",
      "text/plain": [
       "<Figure size 360x288 with 1 Axes>"
      ]
     },
     "metadata": {
      "needs_background": "light"
     },
     "output_type": "display_data"
    }
   ],
   "source": [
    "with mpl.style.context('seaborn-talk'):\n",
    "    fig = plt.figure(figsize=(5,4))\n",
    "    plt.plot(list(range(N_EPOCHS)), loss, color='b', alpha=0.5, label='train_loss')\n",
    "    # plt.plot(list(range(N_EPOCHS)), valid_ppl, color='r', alpha=0.5, label='valid_ppl')\n",
    "    plt.title(\"LOSS vs Epoch\",fontweight=\"bold\")\n",
    "    plt.xlabel(\"Epoch\",fontweight=\"bold\")\n",
    "    plt.ylabel(\"Loss\",fontweight=\"bold\")\n",
    "    plt.legend()\n",
    "    plt.show()"
   ]
  },
  {
   "cell_type": "code",
   "execution_count": 92,
   "metadata": {},
   "outputs": [
    {
     "data": {
      "image/png": "[encoded data removed]",
      "text/plain": [
       "<Figure size 360x288 with 1 Axes>"
      ]
     },
     "metadata": {
      "needs_background": "light"
     },
     "output_type": "display_data"
    },
    {
     "name": "stdout",
     "output_type": "stream",
     "text": [
      "Weight Matrix Error 0.0034037229602633585\n",
      "Bias error 0.00029977678907489036\n"
     ]
    }
   ],
   "source": [
    "#@title A simple linear dataset\n",
    "num_features = 10 #@param {type:\"slider\", min:5, max:100, step:1}\n",
    "num_samples = 100 #@param {type:\"slider\", min:10, max:1000, step:1}\n",
    "epochs = 10 #@param {type:\"slider\", min:1, max:100, step:1}\n",
    "batch_size = 10 #@param {type:\"slider\", min:1, max:100, step:1}\n",
    "learning_rate = 0.05 #@param {type:\"slider\", min:0.001, max:1.0, step:0.001}\n",
    "\n",
    "m = Linear(num_features, 1)\n",
    "model = Sequential(m)\n",
    "l = Learner(model, mse_loss, SGDOptimizer(lr=learning_rate))\n",
    "X = np.random.randn(num_samples, num_features)\n",
    "W = np.random.randn(num_features, 1)\n",
    "B = np.random.randn(1)\n",
    "Y = X @ W + B + 0.01 * np.random.randn(num_samples, 1)\n",
    "#plt.plot(l.fit(X, Y, epochs=epochs, bs=batch_size))\n",
    "with mpl.style.context('seaborn-talk'):\n",
    "    fig = plt.figure(figsize=(5,4))\n",
    "    plt.plot(list(range(N_EPOCHS)), l.fit(X, Y, epochs=epochs, bs=batch_size), color='b', alpha=0.5, label='train_loss')\n",
    "    # plt.plot(list(range(N_EPOCHS)), valid_ppl, color='r', alpha=0.5, label='valid_ppl')\n",
    "    plt.title(\"LOSS vs Epoch\",fontweight=\"bold\")\n",
    "    plt.xlabel(\"Epoch\",fontweight=\"bold\")\n",
    "    plt.ylabel(\"Loss\",fontweight=\"bold\")\n",
    "    plt.legend()\n",
    "    plt.show()\n",
    "print('Weight Matrix Error', np.linalg.norm(m.weights.tensor - W))\n",
    "print('Bias error', np.abs(m.bias.tensor - B)[0])"
   ]
  },
  {
   "cell_type": "markdown",
   "metadata": {},
   "source": [
    "We can also check that the learned weights coincide with the true ones"
   ]
  },
  {
   "cell_type": "code",
   "execution_count": 81,
   "metadata": {},
   "outputs": [
    {
     "name": "stdout",
     "output_type": "stream",
     "text": [
      "0.002465486371045121 0.000264120596444567\n"
     ]
    }
   ],
   "source": [
    "print(np.linalg.norm(model.weights.tensor - W), (model.bias.tensor - B)[0])"
   ]
  },
  {
   "cell_type": "code",
   "execution_count": 89,
   "metadata": {},
   "outputs": [
    {
     "ename": "ValueError",
     "evalue": "non-broadcastable output operand with shape (2,1) doesn't match the broadcast shape (2,50)",
     "output_type": "error",
     "traceback": [
      "\u001b[0;31m---------------------------------------------------------------------------\u001b[0m",
      "\u001b[0;31mValueError\u001b[0m                                Traceback (most recent call last)",
      "\u001b[0;32m<ipython-input-89-fa5d93fdc7ef>\u001b[0m in \u001b[0;36m<module>\u001b[0;34m()\u001b[0m\n\u001b[1;32m     16\u001b[0m     \u001b[0mSequential\u001b[0m\u001b[0;34m(\u001b[0m\u001b[0mLinear\u001b[0m\u001b[0;34m(\u001b[0m\u001b[0;36m2\u001b[0m\u001b[0;34m,\u001b[0m \u001b[0;36m1\u001b[0m\u001b[0;34m)\u001b[0m\u001b[0;34m)\u001b[0m\u001b[0;34m,\u001b[0m\u001b[0;34m\u001b[0m\u001b[0;34m\u001b[0m\u001b[0m\n\u001b[1;32m     17\u001b[0m     \u001b[0mmse_loss\u001b[0m\u001b[0;34m,\u001b[0m\u001b[0;34m\u001b[0m\u001b[0;34m\u001b[0m\u001b[0m\n\u001b[0;32m---> 18\u001b[0;31m     SGDOptimizer(lr=one_layer_learning_rate)).fit(X, Y, epochs=epochs, bs=one_layer_batch_size)\n\u001b[0m\u001b[1;32m     19\u001b[0m \u001b[0;34m\u001b[0m\u001b[0m\n\u001b[1;32m     20\u001b[0m losses2 = Learner(\n",
      "\u001b[0;32m<ipython-input-67-c472e565b3a7>\u001b[0m in \u001b[0;36mfit\u001b[0;34m(self, X, Y, epochs, bs)\u001b[0m\n\u001b[1;32m     19\u001b[0m             \u001b[0mloss\u001b[0m \u001b[0;34m=\u001b[0m \u001b[0;36m0.0\u001b[0m\u001b[0;34m\u001b[0m\u001b[0;34m\u001b[0m\u001b[0m\n\u001b[1;32m     20\u001b[0m             \u001b[0;32mfor\u001b[0m \u001b[0mi\u001b[0m \u001b[0;32min\u001b[0m \u001b[0mrange\u001b[0m\u001b[0;34m(\u001b[0m\u001b[0;36m0\u001b[0m\u001b[0;34m,\u001b[0m \u001b[0mlen\u001b[0m\u001b[0;34m(\u001b[0m\u001b[0mX\u001b[0m\u001b[0;34m)\u001b[0m\u001b[0;34m,\u001b[0m \u001b[0mbs\u001b[0m\u001b[0;34m)\u001b[0m\u001b[0;34m:\u001b[0m\u001b[0;34m\u001b[0m\u001b[0;34m\u001b[0m\u001b[0m\n\u001b[0;32m---> 21\u001b[0;31m                 \u001b[0mloss\u001b[0m \u001b[0;34m+=\u001b[0m \u001b[0mself\u001b[0m\u001b[0;34m.\u001b[0m\u001b[0mfit_batch\u001b[0m\u001b[0;34m(\u001b[0m\u001b[0mX\u001b[0m\u001b[0;34m[\u001b[0m\u001b[0mi\u001b[0m\u001b[0;34m:\u001b[0m\u001b[0mi\u001b[0m \u001b[0;34m+\u001b[0m \u001b[0mbs\u001b[0m\u001b[0;34m]\u001b[0m\u001b[0;34m,\u001b[0m \u001b[0mY\u001b[0m\u001b[0;34m[\u001b[0m\u001b[0mi\u001b[0m\u001b[0;34m:\u001b[0m\u001b[0mi\u001b[0m \u001b[0;34m+\u001b[0m \u001b[0mbs\u001b[0m\u001b[0;34m]\u001b[0m\u001b[0;34m)\u001b[0m\u001b[0;34m\u001b[0m\u001b[0;34m\u001b[0m\u001b[0m\n\u001b[0m\u001b[1;32m     22\u001b[0m             \u001b[0mlosses\u001b[0m\u001b[0;34m.\u001b[0m\u001b[0mappend\u001b[0m\u001b[0;34m(\u001b[0m\u001b[0mloss\u001b[0m\u001b[0;34m)\u001b[0m\u001b[0;34m\u001b[0m\u001b[0;34m\u001b[0m\u001b[0m\n\u001b[1;32m     23\u001b[0m \u001b[0;34m\u001b[0m\u001b[0m\n",
      "\u001b[0;32m<ipython-input-67-c472e565b3a7>\u001b[0m in \u001b[0;36mfit_batch\u001b[0;34m(self, X, Y)\u001b[0m\n\u001b[1;32m      8\u001b[0m         \u001b[0mY_\u001b[0m\u001b[0;34m,\u001b[0m \u001b[0mbackward\u001b[0m \u001b[0;34m=\u001b[0m \u001b[0mself\u001b[0m\u001b[0;34m.\u001b[0m\u001b[0mmodel\u001b[0m\u001b[0;34m.\u001b[0m\u001b[0mforward\u001b[0m\u001b[0;34m(\u001b[0m\u001b[0mX\u001b[0m\u001b[0;34m)\u001b[0m\u001b[0;34m\u001b[0m\u001b[0;34m\u001b[0m\u001b[0m\n\u001b[1;32m      9\u001b[0m         \u001b[0mL\u001b[0m\u001b[0;34m,\u001b[0m \u001b[0mD\u001b[0m \u001b[0;34m=\u001b[0m \u001b[0mself\u001b[0m\u001b[0;34m.\u001b[0m\u001b[0mloss\u001b[0m\u001b[0;34m(\u001b[0m\u001b[0mY_\u001b[0m\u001b[0;34m,\u001b[0m \u001b[0mY\u001b[0m\u001b[0;34m)\u001b[0m\u001b[0;34m\u001b[0m\u001b[0;34m\u001b[0m\u001b[0m\n\u001b[0;32m---> 10\u001b[0;31m         \u001b[0mbackward\u001b[0m\u001b[0;34m(\u001b[0m\u001b[0mD\u001b[0m\u001b[0;34m)\u001b[0m\u001b[0;34m\u001b[0m\u001b[0;34m\u001b[0m\u001b[0m\n\u001b[0m\u001b[1;32m     11\u001b[0m         \u001b[0mself\u001b[0m\u001b[0;34m.\u001b[0m\u001b[0mmodel\u001b[0m\u001b[0;34m.\u001b[0m\u001b[0mupdate\u001b[0m\u001b[0;34m(\u001b[0m\u001b[0mself\u001b[0m\u001b[0;34m.\u001b[0m\u001b[0moptimizer\u001b[0m\u001b[0;34m)\u001b[0m\u001b[0;34m\u001b[0m\u001b[0;34m\u001b[0m\u001b[0m\n\u001b[1;32m     12\u001b[0m         \u001b[0;32mreturn\u001b[0m \u001b[0mL\u001b[0m\u001b[0;34m\u001b[0m\u001b[0;34m\u001b[0m\u001b[0m\n",
      "\u001b[0;32m<ipython-input-64-36ee4d688491>\u001b[0m in \u001b[0;36mbackward\u001b[0;34m(D)\u001b[0m\n\u001b[1;32m     21\u001b[0m         \u001b[0;32mdef\u001b[0m \u001b[0mbackward\u001b[0m\u001b[0;34m(\u001b[0m\u001b[0mD\u001b[0m\u001b[0;34m)\u001b[0m\u001b[0;34m:\u001b[0m\u001b[0;34m\u001b[0m\u001b[0;34m\u001b[0m\u001b[0m\n\u001b[1;32m     22\u001b[0m             \u001b[0;32mfor\u001b[0m \u001b[0mbackprop\u001b[0m \u001b[0;32min\u001b[0m \u001b[0mreversed\u001b[0m\u001b[0;34m(\u001b[0m\u001b[0mbackprops\u001b[0m\u001b[0;34m)\u001b[0m\u001b[0;34m:\u001b[0m\u001b[0;34m\u001b[0m\u001b[0;34m\u001b[0m\u001b[0m\n\u001b[0;32m---> 23\u001b[0;31m                 \u001b[0mD\u001b[0m \u001b[0;34m=\u001b[0m \u001b[0mbackprop\u001b[0m\u001b[0;34m(\u001b[0m\u001b[0mD\u001b[0m\u001b[0;34m)\u001b[0m\u001b[0;34m\u001b[0m\u001b[0;34m\u001b[0m\u001b[0m\n\u001b[0m\u001b[1;32m     24\u001b[0m             \u001b[0;32mreturn\u001b[0m \u001b[0mD\u001b[0m\u001b[0;34m\u001b[0m\u001b[0;34m\u001b[0m\u001b[0m\n\u001b[1;32m     25\u001b[0m         \u001b[0;32mreturn\u001b[0m \u001b[0mY\u001b[0m\u001b[0;34m,\u001b[0m \u001b[0mbackward\u001b[0m\u001b[0;34m\u001b[0m\u001b[0;34m\u001b[0m\u001b[0m\n",
      "\u001b[0;32m<ipython-input-42-10cae2a014d2>\u001b[0m in \u001b[0;36mbackward\u001b[0;34m(D)\u001b[0m\n\u001b[1;32m     12\u001b[0m     \u001b[0;32mdef\u001b[0m \u001b[0mforward\u001b[0m\u001b[0;34m(\u001b[0m\u001b[0mself\u001b[0m\u001b[0;34m,\u001b[0m \u001b[0mX\u001b[0m\u001b[0;34m)\u001b[0m\u001b[0;34m:\u001b[0m\u001b[0;34m\u001b[0m\u001b[0;34m\u001b[0m\u001b[0m\n\u001b[1;32m     13\u001b[0m         \u001b[0;32mdef\u001b[0m \u001b[0mbackward\u001b[0m\u001b[0;34m(\u001b[0m\u001b[0mD\u001b[0m\u001b[0;34m)\u001b[0m\u001b[0;34m:\u001b[0m\u001b[0;34m\u001b[0m\u001b[0;34m\u001b[0m\u001b[0m\n\u001b[0;32m---> 14\u001b[0;31m             \u001b[0mself\u001b[0m\u001b[0;34m.\u001b[0m\u001b[0mweights\u001b[0m\u001b[0;34m.\u001b[0m\u001b[0mgradient\u001b[0m \u001b[0;34m+=\u001b[0m \u001b[0mX\u001b[0m\u001b[0;34m.\u001b[0m\u001b[0mT\u001b[0m \u001b[0;34m@\u001b[0m \u001b[0mD\u001b[0m\u001b[0;34m\u001b[0m\u001b[0;34m\u001b[0m\u001b[0m\n\u001b[0m\u001b[1;32m     15\u001b[0m             \u001b[0mself\u001b[0m\u001b[0;34m.\u001b[0m\u001b[0mbias\u001b[0m\u001b[0;34m.\u001b[0m\u001b[0mgradient\u001b[0m \u001b[0;34m+=\u001b[0m \u001b[0mD\u001b[0m\u001b[0;34m.\u001b[0m\u001b[0msum\u001b[0m\u001b[0;34m(\u001b[0m\u001b[0maxis\u001b[0m\u001b[0;34m=\u001b[0m\u001b[0;36m0\u001b[0m\u001b[0;34m)\u001b[0m\u001b[0;34m\u001b[0m\u001b[0;34m\u001b[0m\u001b[0m\n\u001b[1;32m     16\u001b[0m             \u001b[0;32mreturn\u001b[0m \u001b[0mD\u001b[0m \u001b[0;34m@\u001b[0m \u001b[0mself\u001b[0m\u001b[0;34m.\u001b[0m\u001b[0mweights\u001b[0m\u001b[0;34m.\u001b[0m\u001b[0mtensor\u001b[0m\u001b[0;34m.\u001b[0m\u001b[0mT\u001b[0m\u001b[0;34m\u001b[0m\u001b[0;34m\u001b[0m\u001b[0m\n",
      "\u001b[0;31mValueError\u001b[0m: non-broadcastable output operand with shape (2,1) doesn't match the broadcast shape (2,50)"
     ]
    }
   ],
   "source": [
    "#@title A non-linear dataset\n",
    "num_samples = 1000 #@param {type:\"slider\", min:100, max:10000, step:1}\n",
    "epochs = 50 #@param {type:\"slider\", min:1, max:200, step:1}\n",
    "\n",
    "one_layer_batch_size = 50 #@param {type:\"slider\", min:1, max:100, step:1}\n",
    "one_layer_learning_rate = 0.01 #@param {type:\"slider\", min:0.001, max:1.0, step:0.001}\n",
    "\n",
    "two_layer_batch_size = 50 #@param {type:\"slider\", min:1, max:100, step:1}\n",
    "two_layer_learning_rate = 0.3 #@param {type:\"slider\", min:0.001, max:1.0, step:0.001}\n",
    "hidden_neurons = 10 #@param {type:\"slider\", min:1, max:200, step:1}\n",
    "\n",
    "X = np.random.randn(num_samples, 2)\n",
    "Y = X[:, 0] * X[:, 1]\n",
    "\n",
    "losses1 = Learner(\n",
    "    Sequential(Linear(2, 1)), \n",
    "    mse_loss, \n",
    "    SGDOptimizer(lr=one_layer_learning_rate)).fit(X, Y, epochs=epochs, bs=one_layer_batch_size)\n",
    "\n",
    "losses2 = Learner(\n",
    "    Sequential(\n",
    "        Linear(2, hidden_neurons), \n",
    "        Sigmoid(), \n",
    "        Linear(hidden_neurons, 1)\n",
    "    ), mse_loss, SGDOptimizer(lr=two_layer_learning_rate)).fit(X, Y, epochs=epochs, bs=two_layer_batch_size)\n",
    "\n",
    "plt.plot(losses1)\n",
    "plt.plot(losses2)\n",
    "plt.legend(['1 Layer', '2 Layers'])\n",
    "plt.show()"
   ]
  },
  {
   "cell_type": "code",
   "execution_count": null,
   "metadata": {},
   "outputs": [],
   "source": []
  }
 ],
 "metadata": {
  "kernelspec": {
   "display_name": "Python 3",
   "language": "python",
   "name": "python3"
  },
  "language_info": {
   "codemirror_mode": {
    "name": "ipython",
    "version": 3
   },
   "file_extension": ".py",
   "mimetype": "text/x-python",
   "name": "python",
   "nbconvert_exporter": "python",
   "pygments_lexer": "ipython3",
   "version": "3.6.8"
  },
  "toc": {
   "base_numbering": 1,
   "nav_menu": {},
   "number_sections": true,
   "sideBar": true,
   "skip_h1_title": false,
   "title_cell": "Table of Contents",
   "title_sidebar": "Contents",
   "toc_cell": false,
   "toc_position": {},
   "toc_section_display": true,
   "toc_window_display": true
  }
 },
 "nbformat": 4,
 "nbformat_minor": 2
}
